{
 "cells": [
  {
   "cell_type": "code",
   "execution_count": 12,
   "id": "3e069fb0",
   "metadata": {},
   "outputs": [
    {
     "name": "stdout",
     "output_type": "stream",
     "text": [
      "tweets are added to csv file\n"
     ]
    }
   ],
   "source": [
    "from tweepy import OAuthHandler\n",
    "import tweepy as tw\n",
    "import pandas as pd\n",
    "from pandas import ExcelWriter\n",
    "consumer_key= 'OkiOx2qanOrjAeGIgGYoZpzyS'\n",
    "consumer_secret= 'Am1lo0ZreYVIuv6XJKQnxFbDpKv5QS971gY1hwwQi9AR8HfG5T'\n",
    "access_token= '1511628444114640899-NnZX0fGOoEFiLo2VFW7iN5j0NMSbc0'\n",
    "access_token_secret= 'ZqHbrTnh0ET4h6i0cUCZLNt8RG7vYzAZ0FGtLCUASor83'\n",
    "auth = tw.OAuthHandler(consumer_key, consumer_secret)\n",
    "auth.set_access_token(access_token, access_token_secret)\n",
    "api = tw.API(auth, wait_on_rate_limit=True)\n",
    "\n",
    "tweets = []\n",
    "\n",
    "count = 1\n",
    "\n",
    "\"\"\"Twitter will automatically sample the last 7 days of data. Depending on how many total tweets there are with the specific hashtag, keyword, handle, or key phrase that you are looking for, you can set the date back further by adding since= as one of the parameters. You can also manually add in the number of tweets you want to get back in the items() section.\"\"\"\n",
    "\n",
    "for tweet in tw.Cursor(api.search_tweets, q=\"@kapilsharma\", count=10).items(10):\n",
    "    count += 1\n",
    "    try: \n",
    "        data = [ tweet.created_at, tweet.id, tweet.text, tweet.user._json['screen_name'], tweet.user._json['name'],  tweet.user._json['created_at'],tweet.entities['urls']]\n",
    "        data = tuple(data)\n",
    "        tweets.append(data)\n",
    "\n",
    "    except tw.TweepError as e:\n",
    "        print(e.reason)\n",
    "        continue\n",
    "\n",
    "    except StopIteration:\n",
    "        break\n",
    "\n",
    "df = pd.DataFrame(tweets, columns = ['created_at','tweet_id', 'tweet_text', 'screen_name', 'name','account_creation_date','urls'])\n",
    "\n",
    "\"\"\"Add the path to the folder you want to save the CSV file in as well as what you want the CSV file to be named inside the single quotations\"\"\"\n",
    "df.to_csv(path_or_buf = 'Tweets.csv', index=True)\n",
    "print(\"tweets are added to csv file\")"
   ]
  },
  {
   "cell_type": "code",
   "execution_count": null,
   "id": "30636e7d",
   "metadata": {},
   "outputs": [],
   "source": []
  }
 ],
 "metadata": {
  "kernelspec": {
   "display_name": "Python 3 (ipykernel)",
   "language": "python",
   "name": "python3"
  },
  "language_info": {
   "codemirror_mode": {
    "name": "ipython",
    "version": 3
   },
   "file_extension": ".py",
   "mimetype": "text/x-python",
   "name": "python",
   "nbconvert_exporter": "python",
   "pygments_lexer": "ipython3",
   "version": "3.9.7"
  }
 },
 "nbformat": 4,
 "nbformat_minor": 5
}
