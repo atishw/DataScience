{
 "cells": [
  {
   "cell_type": "code",
   "execution_count": 2,
   "id": "57e05ce7",
   "metadata": {},
   "outputs": [],
   "source": [
    "import os\n",
    "import tweepy as tw\n",
    "import pandas as pd\n",
    "import csv\n",
    "import re \n",
    "import string\n",
    "import preprocessor as p\n",
    "consumer_key= 'OkiOx2qanOrjAeGIgGYoZpzyS'\n",
    "consumer_secret= 'Am1lo0ZreYVIuv6XJKQnxFbDpKv5QS971gY1hwwQi9AR8HfG5T'\n",
    "access_token= '1511628444114640899-NnZX0fGOoEFiLo2VFW7iN5j0NMSbc0'\n",
    "access_token_secret= 'ZqHbrTnh0ET4h6i0cUCZLNt8RG7vYzAZ0FGtLCUASor83'\n",
    "auth = tw.OAuthHandler(consumer_key, consumer_secret)\n",
    "auth.set_access_token(access_token, access_token_secret)\n",
    "api = tw.API(auth, wait_on_rate_limit=True)\n",
    "csvFile = open('wild', 'a')\n",
    "csvWriter = csv.writer(csvFile)\n",
    "\n",
    "search_words = \"@WildLife\"      # enter your words\n",
    "new_search = search_words + \" -filter:retweets\"\n",
    "\n",
    "for tweet in tw.Cursor(api.search_tweets,q=new_search,count=100,lang=\"en\",since_id=0).items(10):\n",
    "    csvWriter.writerow([tweet.created_at, tweet.text.encode('utf-8'),tweet.user.screen_name.encode('utf-8'), tweet.user.location.encode('utf-8')])\n"
   ]
  },
  {
   "cell_type": "code",
   "execution_count": null,
   "id": "f0b25ee0",
   "metadata": {},
   "outputs": [],
   "source": []
  },
  {
   "cell_type": "code",
   "execution_count": null,
   "id": "dae2d63d",
   "metadata": {},
   "outputs": [],
   "source": []
  },
  {
   "cell_type": "code",
   "execution_count": 4,
   "id": "298994a0",
   "metadata": {},
   "outputs": [
    {
     "name": "stdout",
     "output_type": "stream",
     "text": [
      "Collecting preprocessorNote: you may need to restart the kernel to use updated packages.\n",
      "  Downloading preprocessor-1.1.3.tar.gz (4.2 kB)\n",
      "Building wheels for collected packages: preprocessor\n",
      "  Building wheel for preprocessor (setup.py): started\n",
      "  Building wheel for preprocessor (setup.py): finished with status 'done'\n",
      "  Created wheel for preprocessor: filename=preprocessor-1.1.3-py3-none-any.whl size=4477 sha256=c1ca4f3fadccefa8122bad87ef58b0a97370d51ea1c91f1ab701e2eafdcc5f53\n",
      "\n",
      "  Stored in directory: c:\\users\\user\\appdata\\local\\pip\\cache\\wheels\\18\\41\\3e\\30e0c08b0759166f31aee174d58d288ad5c277bd102c8ad869\n",
      "Successfully built preprocessor\n",
      "Installing collected packages: preprocessor\n",
      "Successfully installed preprocessor-1.1.3\n"
     ]
    }
   ],
   "source": [
    "pip install preprocessor"
   ]
  },
  {
   "cell_type": "code",
   "execution_count": null,
   "id": "0b630d7f",
   "metadata": {},
   "outputs": [],
   "source": []
  },
  {
   "cell_type": "code",
   "execution_count": null,
   "id": "c4a480f6",
   "metadata": {},
   "outputs": [],
   "source": []
  }
 ],
 "metadata": {
  "kernelspec": {
   "display_name": "Python 3 (ipykernel)",
   "language": "python",
   "name": "python3"
  },
  "language_info": {
   "codemirror_mode": {
    "name": "ipython",
    "version": 3
   },
   "file_extension": ".py",
   "mimetype": "text/x-python",
   "name": "python",
   "nbconvert_exporter": "python",
   "pygments_lexer": "ipython3",
   "version": "3.9.7"
  }
 },
 "nbformat": 4,
 "nbformat_minor": 5
}
